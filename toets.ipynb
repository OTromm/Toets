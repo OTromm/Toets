{
 "metadata": {
  "language_info": {
   "codemirror_mode": {
    "name": "ipython",
    "version": 3
   },
   "file_extension": ".py",
   "mimetype": "text/x-python",
   "name": "python",
   "nbconvert_exporter": "python",
   "pygments_lexer": "ipython3",
   "version": "3.9.2"
  },
  "orig_nbformat": 4,
  "kernelspec": {
   "name": "python3",
   "display_name": "Python 3.9.2 64-bit"
  },
  "interpreter": {
   "hash": "89aee6942dff7a18974bb50e1d06d5f53d62a755afa5f3e07738ada7c8d88558"
  }
 },
 "nbformat": 4,
 "nbformat_minor": 2,
 "cells": [
  {
   "source": [
    "# Toets Programmeren\n",
    "\n",
    "# VERGEET NIET OP TE SLAAN NA HET MAKEN VAN ELKE OPDRACHT!\n",
    "# VERGEET DE CODE NIET UIT TE VOEREN!"
   ],
   "cell_type": "markdown",
   "metadata": {}
  },
  {
   "source": [
    "### Vraag 1:\n",
    "Zorg dat de uitkomst van de uitdrukking `CambreurCambreurCambreur` is."
   ],
   "cell_type": "markdown",
   "metadata": {}
  },
  {
   "cell_type": "code",
   "execution_count": null,
   "metadata": {},
   "outputs": [],
   "source": [
    "x = \n",
    "y = \n",
    "z = \n",
    "print(int(x / y) * z)"
   ]
  },
  {
   "source": [
    "### Vraag 2:\n",
    "\n",
    "Zorg dat de uitkomst van de uitdrukking `PythonPython42False` is."
   ],
   "cell_type": "markdown",
   "metadata": {}
  },
  {
   "cell_type": "code",
   "execution_count": null,
   "metadata": {},
   "outputs": [],
   "source": [
    "\n",
    "\n",
    "\n",
    "print(x * y + str(z + w) + str(a))"
   ]
  },
  {
   "source": [
    "### Vraag 3:\n",
    "Zorg dat de uitkomst van de uitdrukking `True` is."
   ],
   "cell_type": "markdown",
   "metadata": {}
  },
  {
   "cell_type": "code",
   "execution_count": null,
   "metadata": {},
   "outputs": [],
   "source": [
    "\n",
    "\n",
    "print(x * y + z < 1000 and z > 100)"
   ]
  },
  {
   "source": [
    "### Vraag 4:\n",
    "Om een kat te mogen kopen moet je tenminste 50 euro hebben en 14 jaar oud zijn. Zorg dat de uitkomst van het algoritme `Ja, ik mag een kat kopen is`. (je moet hiervoor 2 `variabelen` gebruiken!)"
   ],
   "cell_type": "markdown",
   "metadata": {}
  },
  {
   "cell_type": "code",
   "execution_count": null,
   "metadata": {},
   "outputs": [],
   "source": [
    "\n",
    "\n",
    "if():\n",
    "    print(\"Ja, ik mag een kat kopen\")\n",
    "else:\n",
    "    print(\"Nee, ik mag geen kat kopen\")"
   ]
  },
  {
   "source": [
    "### Opdracht 5:\n",
    "Maak een programma die checkt of 4 verschillende hoeken samen een trapezium (vierhoek) vormen. (Maak dus gebruik van 4 variabelen en alle hoeken moeten samen 360 zijn). Schrijf zelf de `if` statement. Kijk goed naar de andere opdrachten en zorg dat de code op de juiste plek staat! Vergeet de **:** niet!"
   ],
   "cell_type": "markdown",
   "metadata": {}
  },
  {
   "cell_type": "code",
   "execution_count": null,
   "metadata": {},
   "outputs": [],
   "source": [
    "\n",
    "\n",
    "\n"
   ]
  },
  {
   "source": [
    "### Opdracht 6:\n",
    "Maak een algoritme die verteld wanneer een nummer deelbaar is door 3, 7 of geen van beide. (maak gebruik van `modulo` (%))"
   ],
   "cell_type": "markdown",
   "metadata": {}
  },
  {
   "cell_type": "code",
   "execution_count": null,
   "metadata": {},
   "outputs": [],
   "source": [
    "num = \n",
    "\n",
    "if():\n",
    "    print(\"Nummer is deelbaar door 3\")\n",
    "elif():\n",
    "    print(\"Nummer is deelbaar door 7\")\n",
    "else:\n",
    "    print(\"Nummer is niet deelbaar door 3 of 7\")"
   ]
  },
  {
   "source": [
    "### Opdracht 7:\n",
    "Maak een algoritme die kijkt of 2 nummers gelijk aan elkaar zijn **EN** allebei positief zijn."
   ],
   "cell_type": "markdown",
   "metadata": {}
  },
  {
   "cell_type": "code",
   "execution_count": null,
   "metadata": {},
   "outputs": [],
   "source": [
    "num1 = \n",
    "num2 = \n",
    "\n",
    "if():\n",
    "    print(\"De nummers zijn gelijk aan elkaar en allebei positief\")\n",
    "else:\n",
    "    print(\"De nummers zijn niet gelijk aan elkaar of negatief\")"
   ]
  },
  {
   "source": [
    "### Opdracht 8:\n",
    "Maak een lijstje met de waardes `1, 1, 2, 3, 5, 8` en print deze uit."
   ],
   "cell_type": "markdown",
   "metadata": {}
  },
  {
   "cell_type": "code",
   "execution_count": null,
   "metadata": {},
   "outputs": [],
   "source": []
  },
  {
   "source": [
    "### Opdracht 9:\n",
    "Maak een lijstje met de waardes `10, 20, 22, 30`, haal vervolgens de waarde `22` uit het lijstje en print dan het lijstje uit."
   ],
   "cell_type": "markdown",
   "metadata": {}
  },
  {
   "cell_type": "code",
   "execution_count": null,
   "metadata": {},
   "outputs": [],
   "source": []
  },
  {
   "source": [
    "### Opdracht 10:\n",
    "Maak een lijstje `dieren` en de waardes `hond, kat, boom`. Haal vervolgens de waarde `boom` uit het lijstje en voeg de waarde `cavia` toe. Print ten slotte het lijstje uit."
   ],
   "cell_type": "markdown",
   "metadata": {}
  },
  {
   "cell_type": "code",
   "execution_count": null,
   "metadata": {},
   "outputs": [],
   "source": []
  },
  {
   "source": [
    "### Opdracht 11:\n",
    "Maak de `for-loop` af zodat alleen negatieve waardes uit het lijstje worden uitgeprint."
   ],
   "cell_type": "markdown",
   "metadata": {}
  },
  {
   "cell_type": "code",
   "execution_count": null,
   "metadata": {},
   "outputs": [],
   "source": [
    "nummers = [-32, 14, -47, 33, -32, -56, 51, 59, -77, 8]\n",
    "\n",
    "for ? in ?:\n",
    "    if(?):\n",
    "        print(?)"
   ]
  },
  {
   "source": [
    "### Opdracht 12:\n",
    "Maak een lijstje en gebruik vervolgens een `for-loop` om alle waardes uit het lijstje onder elkaar uit te printen."
   ],
   "cell_type": "markdown",
   "metadata": {}
  },
  {
   "cell_type": "code",
   "execution_count": null,
   "metadata": {},
   "outputs": [],
   "source": [
    "\n",
    "\n"
   ]
  },
  {
   "source": [
    "### Opdracht 13:\n",
    "Maak een algoritme die alle waardes deelbaar door 9 uitprint in het bereik van 1 tot en met 100. (Maak gebruik van een `for-range` loop)"
   ],
   "cell_type": "markdown",
   "metadata": {}
  },
  {
   "cell_type": "code",
   "execution_count": null,
   "metadata": {},
   "outputs": [],
   "source": []
  },
  {
   "source": [
    "### Opdracht 14:\n",
    "Maak een algoritme die alle waardes deelbaar door 12 **of** kleiner dan 180 uitprint in het bereik van 1 tot en met 500."
   ],
   "cell_type": "markdown",
   "metadata": {}
  },
  {
   "cell_type": "code",
   "execution_count": null,
   "metadata": {},
   "outputs": [],
   "source": []
  },
  {
   "source": [
    "### Opdracht 15:\n",
    "Maak een algoritme die alle oneven waardes tot en met 100 bij elkaar **optelt**."
   ],
   "cell_type": "markdown",
   "metadata": {}
  },
  {
   "cell_type": "code",
   "execution_count": null,
   "metadata": {},
   "outputs": [],
   "source": [
    "totaal = 0\n",
    "\n",
    "\n",
    "\n",
    "print(totaal)"
   ]
  },
  {
   "source": [
    "# VERGEET NIET OP TE SLAAN!"
   ],
   "cell_type": "markdown",
   "metadata": {}
  }
 ]
}